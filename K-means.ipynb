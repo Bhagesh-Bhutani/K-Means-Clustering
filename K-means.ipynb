{
 "cells": [
  {
   "cell_type": "code",
   "execution_count": 122,
   "metadata": {},
   "outputs": [],
   "source": [
    "import numpy as np\n",
    "import matplotlib.pyplot as plt"
   ]
  },
  {
   "cell_type": "code",
   "execution_count": 123,
   "metadata": {},
   "outputs": [],
   "source": [
    "from sklearn.datasets import make_blobs"
   ]
  },
  {
   "cell_type": "code",
   "execution_count": 161,
   "metadata": {},
   "outputs": [
    {
     "name": "stdout",
     "output_type": "stream",
     "text": [
      "(500, 2)\n"
     ]
    }
   ],
   "source": [
    "X,_=make_blobs(n_samples=500,centers=5)\n",
    "print(X.shape)"
   ]
  },
  {
   "cell_type": "code",
   "execution_count": 162,
   "metadata": {},
   "outputs": [
    {
     "data": {
      "image/png": "[encoded data removed]",
      "text/plain": [
       "<Figure size 432x288 with 1 Axes>"
      ]
     },
     "metadata": {
      "needs_background": "light"
     },
     "output_type": "display_data"
    }
   ],
   "source": [
    "plt.scatter(X[:,0],X[:,1])\n",
    "plt.show()"
   ]
  },
  {
   "cell_type": "code",
   "execution_count": 163,
   "metadata": {},
   "outputs": [
    {
     "name": "stdout",
     "output_type": "stream",
     "text": [
      "{0: {'center': array([ 7.18135275, -3.65920069]), 'points': [], 'color': 'red'}, 1: {'center': array([ 6.15268396, -9.13030425]), 'points': [], 'color': 'green'}, 2: {'center': array([-8.35010899,  3.73028397]), 'points': [], 'color': 'blue'}, 3: {'center': array([5.10205062, 7.21108049]), 'points': [], 'color': 'pink'}, 4: {'center': array([ 5.06706877, -8.32644478]), 'points': [], 'color': 'orange'}}\n"
     ]
    }
   ],
   "source": [
    "k=5\n",
    "colors=[\"red\",\"green\",\"blue\",\"pink\",\"orange\"]\n",
    "\n",
    "# Dictionary\n",
    "\n",
    "clusters={}\n",
    "\n",
    "# Init Cluster Centers\n",
    "for i in range(k):\n",
    "    center=10*(2*np.random.random((2,))-1)\n",
    "    cluster={\n",
    "        \"center\":center,\n",
    "        \"points\":[],\n",
    "        \"color\":colors[i]\n",
    "    }\n",
    "    clusters[i]=cluster\n",
    "print(clusters)"
   ]
  },
  {
   "cell_type": "code",
   "execution_count": 164,
   "metadata": {},
   "outputs": [
    {
     "data": {
      "text/plain": [
       "{'center': array([ 7.18135275, -3.65920069]), 'points': [], 'color': 'red'}"
      ]
     },
     "execution_count": 164,
     "metadata": {},
     "output_type": "execute_result"
    }
   ],
   "source": [
    "clusters[0]"
   ]
  },
  {
   "cell_type": "code",
   "execution_count": 165,
   "metadata": {},
   "outputs": [
    {
     "data": {
      "text/plain": [
       "(500, 2)"
      ]
     },
     "execution_count": 165,
     "metadata": {},
     "output_type": "execute_result"
    }
   ],
   "source": [
    "X.shape"
   ]
  },
  {
   "cell_type": "code",
   "execution_count": 166,
   "metadata": {},
   "outputs": [],
   "source": [
    "def distance(p1,p2):\n",
    "    return np.sqrt(np.sum((p1-p2)**2))"
   ]
  },
  {
   "cell_type": "code",
   "execution_count": 167,
   "metadata": {},
   "outputs": [],
   "source": [
    "# 1. Step - Assign each point to one of the cluster based upon distance\n",
    "def assignPointtoCluster(clusters):\n",
    "    m=X.shape[0]\n",
    "    for i in range(m):\n",
    "        current_x=X[i]\n",
    "        dist=[]\n",
    "        #For every cluster center find the one nearest to the point        \n",
    "        for j in range(k):\n",
    "            cc=clusters[j][\"center\"]\n",
    "            d=distance(current_x,cc)\n",
    "            dist.append(d)\n",
    "        nearest=np.argmin(dist)\n",
    "        clusters[nearest][\"points\"].append(current_x)"
   ]
  },
  {
   "cell_type": "code",
   "execution_count": 168,
   "metadata": {},
   "outputs": [],
   "source": [
    "# update Cluster Centers based upon mean of the points assigned to the cluster\n",
    "def updateClusterCenters(clusters):\n",
    "    for i in range(k):\n",
    "        pts=np.array(clusters[i][\"points\"])\n",
    "        if pts.shape[0]>0:\n",
    "            u=pts.mean(axis=0)\n",
    "            clusters[i][\"center\"]=u\n",
    "            clusters[i][\"points\"]=[]"
   ]
  },
  {
   "cell_type": "code",
   "execution_count": 169,
   "metadata": {},
   "outputs": [],
   "source": [
    "def plotClusters(clusters):\n",
    "    for i in range(k):\n",
    "        #Get all the points assigned\n",
    "        pts=np.array(clusters[i][\"points\"])\n",
    "        ui=clusters[i][\"center\"]\n",
    "        if pts.shape[0]>0:\n",
    "            clr=clusters[i][\"color\"]\n",
    "            plt.scatter(pts[:,0],pts[:,1],c=clr)\n",
    "        plt.scatter(ui[0],ui[1],color=\"black\",marker=\"*\")\n",
    "        "
   ]
  },
  {
   "cell_type": "code",
   "execution_count": 176,
   "metadata": {},
   "outputs": [
    {
     "data": {
      "image/png": "[encoded data removed]",
      "text/plain": [
       "<Figure size 432x288 with 1 Axes>"
      ]
     },
     "metadata": {
      "needs_background": "light"
     },
     "output_type": "display_data"
    }
   ],
   "source": [
    "assignPointtoCluster(clusters)\n",
    "plotClusters(clusters)\n",
    "updateClusterCenters(clusters)"
   ]
  },
  {
   "cell_type": "code",
   "execution_count": 177,
   "metadata": {},
   "outputs": [],
   "source": [
    "from sklearn.cluster import KMeans"
   ]
  },
  {
   "cell_type": "code",
   "execution_count": 178,
   "metadata": {},
   "outputs": [],
   "source": [
    "km=KMeans(n_clusters=5)"
   ]
  },
  {
   "cell_type": "code",
   "execution_count": 179,
   "metadata": {},
   "outputs": [
    {
     "data": {
      "text/plain": [
       "KMeans(algorithm='auto', copy_x=True, init='k-means++', max_iter=300,\n",
       "       n_clusters=5, n_init=10, n_jobs=None, precompute_distances='auto',\n",
       "       random_state=None, tol=0.0001, verbose=0)"
      ]
     },
     "execution_count": 179,
     "metadata": {},
     "output_type": "execute_result"
    }
   ],
   "source": [
    "km.fit(X)"
   ]
  },
  {
   "cell_type": "code",
   "execution_count": 180,
   "metadata": {},
   "outputs": [],
   "source": [
    "centers=km.cluster_centers_"
   ]
  },
  {
   "cell_type": "code",
   "execution_count": 181,
   "metadata": {},
   "outputs": [
    {
     "data": {
      "text/plain": [
       "<matplotlib.collections.PathCollection at 0x2b9510c9400>"
      ]
     },
     "execution_count": 181,
     "metadata": {},
     "output_type": "execute_result"
    },
    {
     "data": {
      "image/png": "[encoded data removed]",
      "text/plain": [
       "<Figure size 432x288 with 1 Axes>"
      ]
     },
     "metadata": {
      "needs_background": "light"
     },
     "output_type": "display_data"
    }
   ],
   "source": [
    "plt.scatter(X[:,0],X[:,1])\n",
    "plt.scatter(centers[:,0],centers[:,1])"
   ]
  },
  {
   "cell_type": "code",
   "execution_count": null,
   "metadata": {},
   "outputs": [],
   "source": []
  }
 ],
 "metadata": {
  "kernelspec": {
   "display_name": "Python 3",
   "language": "python",
   "name": "python3"
  },
  "language_info": {
   "codemirror_mode": {
    "name": "ipython",
    "version": 3
   },
   "file_extension": ".py",
   "mimetype": "text/x-python",
   "name": "python",
   "nbconvert_exporter": "python",
   "pygments_lexer": "ipython3",
   "version": "3.7.3"
  }
 },
 "nbformat": 4,
 "nbformat_minor": 2
}
